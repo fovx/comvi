{
 "cells": [
  {
   "cell_type": "code",
   "execution_count": 10,
   "id": "bdb9384d",
   "metadata": {},
   "outputs": [
    {
     "ename": "NameError",
     "evalue": "name 'audio_shape' is not defined",
     "output_type": "error",
     "traceback": [
      "\u001b[1;31m---------------------------------------------------------------------------\u001b[0m",
      "\u001b[1;31mNameError\u001b[0m                                 Traceback (most recent call last)",
      "\u001b[1;32m~\\AppData\\Local\\Temp\\ipykernel_18372\\1732962044.py\u001b[0m in \u001b[0;36m<module>\u001b[1;34m\u001b[0m\n\u001b[0;32m      4\u001b[0m \u001b[1;33m\u001b[0m\u001b[0m\n\u001b[0;32m      5\u001b[0m \u001b[1;31m# 음성 데이터를 위한 모델\u001b[0m\u001b[1;33m\u001b[0m\u001b[1;33m\u001b[0m\u001b[1;33m\u001b[0m\u001b[0m\n\u001b[1;32m----> 6\u001b[1;33m \u001b[0minput_audio\u001b[0m \u001b[1;33m=\u001b[0m \u001b[0mInput\u001b[0m\u001b[1;33m(\u001b[0m\u001b[0mshape\u001b[0m\u001b[1;33m=\u001b[0m\u001b[1;33m(\u001b[0m\u001b[0maudio_shape\u001b[0m\u001b[1;33m)\u001b[0m\u001b[1;33m)\u001b[0m  \u001b[1;31m# 음성 데이터의 형태 (예: (16000, 1) for 1 sec of 16kHz mono audio)\u001b[0m\u001b[1;33m\u001b[0m\u001b[1;33m\u001b[0m\u001b[0m\n\u001b[0m\u001b[0;32m      7\u001b[0m \u001b[0maudio_model\u001b[0m \u001b[1;33m=\u001b[0m \u001b[0mConv1D\u001b[0m\u001b[1;33m(\u001b[0m\u001b[1;36m32\u001b[0m\u001b[1;33m,\u001b[0m \u001b[1;36m3\u001b[0m\u001b[1;33m,\u001b[0m \u001b[0mactivation\u001b[0m\u001b[1;33m=\u001b[0m\u001b[1;34m'relu'\u001b[0m\u001b[1;33m)\u001b[0m\u001b[1;33m(\u001b[0m\u001b[0minput_audio\u001b[0m\u001b[1;33m)\u001b[0m\u001b[1;33m\u001b[0m\u001b[1;33m\u001b[0m\u001b[0m\n\u001b[0;32m      8\u001b[0m \u001b[0maudio_model\u001b[0m \u001b[1;33m=\u001b[0m \u001b[0mConv1D\u001b[0m\u001b[1;33m(\u001b[0m\u001b[1;36m64\u001b[0m\u001b[1;33m,\u001b[0m \u001b[1;36m3\u001b[0m\u001b[1;33m,\u001b[0m \u001b[0mactivation\u001b[0m\u001b[1;33m=\u001b[0m\u001b[1;34m'relu'\u001b[0m\u001b[1;33m)\u001b[0m\u001b[1;33m(\u001b[0m\u001b[0maudio_model\u001b[0m\u001b[1;33m)\u001b[0m\u001b[1;33m\u001b[0m\u001b[1;33m\u001b[0m\u001b[0m\n",
      "\u001b[1;31mNameError\u001b[0m: name 'audio_shape' is not defined"
     ]
    }
   ],
   "source": [
    "import tensorflow as tf\n",
    "from tensorflow.keras.layers import Input, Dense, Conv1D, Conv2D, Flatten, LSTM, concatenate\n",
    "from tensorflow.keras.models import Model\n",
    "\n",
    "# 음성 데이터를 위한 모델\n",
    "input_audio = Input(shape=(audio_shape))  # 음성 데이터의 형태 (예: (16000, 1) for 1 sec of 16kHz mono audio)\n",
    "audio_model = Conv1D(32, 3, activation='relu')(input_audio)\n",
    "audio_model = Conv1D(64, 3, activation='relu')(audio_model)\n",
    "audio_model = Flatten()(audio_model)\n",
    "audio_model = Dense(64, activation='relu')(audio_model)\n",
    "\n",
    "# 영상 데이터를 위한 모델\n",
    "input_video = Input(shape=(frame_shape))  # 영상 프레임 데이터의 형태 (예: (64, 64, 3) for 64x64 RGB images)\n",
    "video_model = Conv2D(32, (3, 3), activation='relu')(input_video)\n",
    "video_model = Conv2D(64, (3, 3), activation='relu')(video_model)\n",
    "video_model = Flatten()(video_model)\n",
    "video_model = Dense(64, activation='relu')(video_model)\n",
    "\n",
    "# 두 모델의 출력을 결합\n",
    "combined = concatenate([audio_model, video_model])\n",
    "combined = Dense(128, activation='relu')(combined)\n",
    "output = Dense(10, activation='softmax')(combined)  # 예를 들어 10개의 클래스로 분류\n",
    "\n",
    "model = Model(inputs=[input_audio, input_video], outputs=output)\n",
    "\n",
    "model.compile(optimizer='adam', loss='categorical_crossentropy', metrics=['accuracy'])\n",
    "model.summary()\n"
   ]
  },
  {
   "cell_type": "code",
   "execution_count": null,
   "id": "43e955e7",
   "metadata": {},
   "outputs": [],
   "source": []
  }
 ],
 "metadata": {
  "kernelspec": {
   "display_name": "Python 3 (ipykernel)",
   "language": "python",
   "name": "python3"
  },
  "language_info": {
   "codemirror_mode": {
    "name": "ipython",
    "version": 3
   },
   "file_extension": ".py",
   "mimetype": "text/x-python",
   "name": "python",
   "nbconvert_exporter": "python",
   "pygments_lexer": "ipython3",
   "version": "3.7.16"
  }
 },
 "nbformat": 4,
 "nbformat_minor": 5
}
